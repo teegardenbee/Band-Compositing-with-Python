{
 "cells": [
  {
   "cell_type": "code",
   "execution_count": 1,
   "id": "f4184d35-4789-41ba-a08d-2944ac3cac14",
   "metadata": {},
   "outputs": [],
   "source": [
    "import rasterio\n",
    "from rasterio.merge import merge\n",
    "from rasterio.io import MemoryFile\n",
    "import numpy as np\n",
    "import os"
   ]
  },
  {
   "cell_type": "code",
   "execution_count": 1,
   "id": "4c741707-2f32-4ccd-932b-5c46295ff96a",
   "metadata": {},
   "outputs": [],
   "source": [
    "def band_composite(raster1_path, raster2_path, output_path):\n",
    "    # Open the first raster (4-band)\n",
    "    with rasterio.open(raster1_path) as src1:\n",
    "        bands1 = [src1.read(i) for i in range(1, src1.count + 1)]\n",
    "        meta = src1.meta.copy()\n",
    "    \n",
    "    # Open the second raster (1-band)\n",
    "    with rasterio.open(raster2_path) as src2:\n",
    "        band2 = src2.read(1)  # Assuming the second raster has only 1 band\n",
    "\n",
    "        # Ensure the rasters have the same dimensions\n",
    "        if (src1.width != src2.width or src1.height != src2.height):\n",
    "            raise ValueError(\"The rasters have different dimensions. Resample them first.\")\n",
    "\n",
    "    # Update metadata for the output file\n",
    "    meta.update({\n",
    "        \"count\": len(bands1) + 1  # Total bands\n",
    "    })\n",
    "    \n",
    "    # Write the output raster\n",
    "    with rasterio.open(output_path, \"w\", **meta) as dst:\n",
    "        # Write the 4 bands from the first raster\n",
    "        for i, band in enumerate(bands1, start=1):\n",
    "            dst.write(band, i)\n",
    "        # Write the single band from the second raster\n",
    "        dst.write(band2, len(bands1) + 1)\n",
    "    \n",
    "    print(f\"Composite raster created at {output_path}\")"
   ]
  },
  {
   "cell_type": "code",
   "execution_count": null,
   "id": "27bb8e81-571a-4e14-99df-93aa3cd1dfde",
   "metadata": {},
   "outputs": [],
   "source": [
    "raster1_path = #Path\n",
    "raster2_path = #Path\n",
    "output_path = #Path\n",
    "# Perform band compositing\n",
    "band_composite(raster1_path, raster2_path, output_path)"
   ]
  },
  {
   "cell_type": "code",
   "execution_count": null,
   "id": "30383bae-b15c-4da5-a6a1-201a021646b8",
   "metadata": {},
   "outputs": [],
   "source": []
  }
 ],
 "metadata": {
  "kernelspec": {
   "display_name": "Python 3 (ipykernel)",
   "language": "python",
   "name": "python3"
  },
  "language_info": {
   "codemirror_mode": {
    "name": "ipython",
    "version": 3
   },
   "file_extension": ".py",
   "mimetype": "text/x-python",
   "name": "python",
   "nbconvert_exporter": "python",
   "pygments_lexer": "ipython3",
   "version": "3.13.1"
  }
 },
 "nbformat": 4,
 "nbformat_minor": 5
}
